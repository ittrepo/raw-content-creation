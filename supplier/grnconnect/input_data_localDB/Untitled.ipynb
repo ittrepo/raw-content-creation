{
 "cells": [
  {
   "cell_type": "markdown",
   "id": "ea990396-1787-46ec-9411-4394c9f9e16a",
   "metadata": {},
   "source": [
    "### Tsv file read with pandas"
   ]
  },
  {
   "cell_type": "code",
   "execution_count": 2,
   "id": "ca2a6097-21c8-4d6b-a183-38a190dfae88",
   "metadata": {},
   "outputs": [
    {
     "name": "stdout",
     "output_type": "stream",
     "text": [
      "   Hotel Code                            Hotel Name  \\\n",
      "0     1002302                         Font d'Argent   \n",
      "1     2431318         Terme di Vulci Glamping & Spa   \n",
      "2     1002303                        Hotel Bonavida   \n",
      "3     2029284              Casa Rural Borda Patxeta   \n",
      "4     1002309  Apartamentos Canillo Ribagrossa 3000   \n",
      "\n",
      "                                         Description  City Code  \\\n",
      "0  <p><b>Property Location</b> <br />With a stay ...     104234   \n",
      "1  <p><b>Property Location</b> <br />With a stay ...     104234   \n",
      "2  <p><b>Property Location</b> <br />When you sta...     104234   \n",
      "3  <p><b>Property Location</b> <br />With a stay ...     104234   \n",
      "4  A block of holiday apartments located just out...     104234   \n",
      "\n",
      "   Destination Code Country Code  Unnamed: 6  Star Category  \\\n",
      "0               NaN           AD         NaN            4.0   \n",
      "1               NaN           AD         NaN            4.0   \n",
      "2               NaN           AD         NaN            3.0   \n",
      "3               NaN           AD         NaN            3.0   \n",
      "4               NaN           AD         NaN            2.0   \n",
      "\n",
      "                                             Address Postal Code   Latitude  \\\n",
      "0             Av. dels Coprinceps S/N, AD100 Canillo       AD100  42.567207   \n",
      "1             Via delle Terme, 01011 Canino, Viterbo         NaN  42.447600   \n",
      "2  Carrer Peu del Carrer 1, at Grandvalira ski pi...       AD100  42.566311   \n",
      "3            Carretera Montaup km 2.5, AD100 Canillo       AD100  42.570665   \n",
      "4  Urbanización Ribagrossa, Carretera del Forn de...       AD100  42.563221   \n",
      "\n",
      "   Longitude  Accommodation Type Accommodation Type Sub Name  \\\n",
      "0   1.600608                   0                       Hotel   \n",
      "1  11.732000                   0                    Campsite   \n",
      "2   1.600053                   0                       Hotel   \n",
      "3   1.595823                   0               Country house   \n",
      "4   1.601099                   3                   Apartment   \n",
      "\n",
      "                 Chain Name Featured  \n",
      "0            Daguisa Hotels      NaN  \n",
      "1                       NaN      NaN  \n",
      "2  Autentics Hotels Andorra      NaN  \n",
      "3                       NaN      NaN  \n",
      "4         Apartamentos 3000      NaN  \n"
     ]
    }
   ],
   "source": [
    "import pandas as pd\n",
    "\n",
    "df = pd.read_csv(\"D:/Rokon/grnconnect/hotel_master.tsv/hotel_master.tsv\" , sep = \"\\t\")\n",
    "\n",
    "\n",
    "print(df.head())"
   ]
  },
  {
   "cell_type": "markdown",
   "id": "d0bcb3f1-a1c6-4ee3-b852-ea3a1c0a9a90",
   "metadata": {},
   "source": [
    "### Upload tsv file in localdb."
   ]
  },
  {
   "cell_type": "code",
   "execution_count": 3,
   "id": "2115b810-e0e3-455e-88d0-beaba5c66fdf",
   "metadata": {},
   "outputs": [
    {
     "data": {
      "text/plain": [
       "543401"
      ]
     },
     "execution_count": 3,
     "metadata": {},
     "output_type": "execute_result"
    }
   ],
   "source": [
    "import pandas as pd\n",
    "from sqlalchemy import create_engine\n",
    "\n",
    "# Database connection setup\n",
    "DATABASE_URL = \"mysql+pymysql://root:@localhost/csvdata01_02102024\"\n",
    "engine = create_engine(DATABASE_URL)\n",
    "\n",
    "# Path to your TSV file\n",
    "upload_file = \"D:/Rokon/grnconnect/hotel_master.tsv/hotel_master.tsv\"\n",
    "\n",
    "# Read the TSV file into a DataFrame\n",
    "df = pd.read_csv(upload_file, delimiter='\\t')\n",
    "\n",
    "# Upload the DataFrame to MySQL\n",
    "df.to_sql(\n",
    "    name='grn_master', \n",
    "    con=engine,\n",
    "    if_exists='replace',  \n",
    "    index=False          \n",
    ")"
   ]
  },
  {
   "cell_type": "code",
   "execution_count": null,
   "id": "e098223c-eca8-42fd-9805-f4e79e0d89c3",
   "metadata": {},
   "outputs": [],
   "source": []
  }
 ],
 "metadata": {
  "kernelspec": {
   "display_name": "Python 3 (ipykernel)",
   "language": "python",
   "name": "python3"
  },
  "language_info": {
   "codemirror_mode": {
    "name": "ipython",
    "version": 3
   },
   "file_extension": ".py",
   "mimetype": "text/x-python",
   "name": "python",
   "nbconvert_exporter": "python",
   "pygments_lexer": "ipython3",
   "version": "3.12.9"
  }
 },
 "nbformat": 4,
 "nbformat_minor": 5
}
